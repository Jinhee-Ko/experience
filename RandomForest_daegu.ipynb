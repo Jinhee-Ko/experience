{
 "cells": [
  {
   "cell_type": "code",
   "execution_count": null,
   "metadata": {},
   "outputs": [],
   "source": [
    "from sklearn.ensemble import RandomForestClassifier\n",
    "from sklearn.model_selection import train_test_split\n",
    "from sklearn.metrics import accuracy_score\n",
    "from sklearn.model_selection import GridSearchCV\n",
    "from sklearn import metrics\n",
    "import tensorflow as tf\n",
    "import pandas as pd\n",
    "import matplotlib.pyplot as plt"
   ]
  },
  {
   "cell_type": "code",
   "execution_count": null,
   "metadata": {},
   "outputs": [],
   "source": [
    "df = pd.read_csv(\"data_daegu.csv\")\n",
    "df.head()"
   ]
  },
  {
   "cell_type": "code",
   "execution_count": null,
   "metadata": {},
   "outputs": [],
   "source": [
    "x = df[['death', 'released', 'weather_temp', 'weather_rain', 'social_keyword_corona', 'social_keyword_disinfection', 'social_keyword_mask', 'social_keyword_infection', 'social_keyword_briefing', 'date_red', 'confirmed_foreign', 'PM10']]\n",
    "y = df[['confirmed']]\n",
    "\n",
    "x_train, x_test, y_train, y_test = train_test_split(x,y, train_size=0.8, test_size=0.2)"
   ]
  },
  {
   "cell_type": "code",
   "execution_count": null,
   "metadata": {},
   "outputs": [],
   "source": [
    "rf = RandomForestClassifier(n_estimators=100, random_state=None)\n",
    "\n",
    "rf.fit(x_train,y_train.values.ravel())\n",
    "print(\"대구 train 정확도 : {:.3f}\".format(rf.score(x_train,y_train)))\n",
    "print(\"대구 예측모델 정확도 : {:.3f}\".format(rf.score(x,y)))\n",
    "\n",
    "y_pred = rf.predict(x_test)\n",
    "print(\"예측 정확도:{:.3f}\".format(accuracy_score(y_pred, y_test)))\n",
    "#train 정확도가 100%이므로 overfitting"
   ]
  },
  {
   "cell_type": "code",
   "execution_count": null,
   "metadata": {},
   "outputs": [],
   "source": [
    "#overfitting을 막기 위한 파라미터 튜닝\n",
    "params = {        \n",
    "           'n_estimators' : [40,60,80,100],\n",
    "           'max_depth' : [4,8,10,12],\n",
    "           'min_samples_leaf' : [4,8,12],\n",
    "           'min_samples_split' : [2,4]\n",
    "            }\n",
    "\n",
    "# RandomForestClassifier 객체 생성 후 GridSearchCV 수행\n",
    "rf_clf = RandomForestClassifier(random_state = 0, n_jobs = -1)\n",
    "grid_cv = GridSearchCV(rf_clf, param_grid = params, cv = 3, n_jobs = -1)\n",
    "grid_cv.fit(x_train, y_train.values.ravel())\n",
    "\n",
    "print('최적 하이퍼 파라미터: ', grid_cv.best_params_)\n",
    "print('최고 예측 정확도: {:.4f}'.format(grid_cv.best_score_))"
   ]
  },
  {
   "cell_type": "code",
   "execution_count": null,
   "metadata": {},
   "outputs": [],
   "source": [
    "#위의 결과로 나온 최적 파라미터로 다시 모델을 학습하여 테스트 세트 데이터에서 예측 성능을 측정\n",
    "#대구\n",
    "\n",
    "rf = RandomForestClassifier(n_estimators=40,max_depth=4,min_samples_leaf=12,min_samples_split=2,random_state=0)\n",
    "\n",
    "rf.fit(x_train,y_train.values.ravel())\n",
    "print(\"대구 train 정확도 : {:.3f}\".format(rf.score(x_train,y_train)))\n",
    "print(\"대구 test 정확도 : {:.3f}\".format(rf.score(x_test,y_test)))\n",
    "y_pred = rf.predict(x_test)\n",
    "print(\"예측 정확도:{:.3f}\".format(accuracy_score(y_pred, y_test)))"
   ]
  }
 ],
 "metadata": {
  "kernelspec": {
   "display_name": "Python 3",
   "language": "python",
   "name": "python3"
  },
  "language_info": {
   "codemirror_mode": {
    "name": "ipython",
    "version": 3
   },
   "file_extension": ".py",
   "mimetype": "text/x-python",
   "name": "python",
   "nbconvert_exporter": "python",
   "pygments_lexer": "ipython3",
   "version": "3.7.6"
  }
 },
 "nbformat": 4,
 "nbformat_minor": 4
}
