{
 "cells": [
  {
   "cell_type": "code",
   "execution_count": 2,
   "metadata": {},
   "outputs": [
    {
     "name": "stdout",
     "output_type": "stream",
     "text": [
      "Requirement already satisfied: pandas in c:\\users\\dldus\\anaconda3\\lib\\site-packages (1.0.1)\n",
      "Requirement already satisfied: numpy>=1.13.3 in c:\\users\\dldus\\anaconda3\\lib\\site-packages (from pandas) (1.18.1)\n",
      "Requirement already satisfied: pytz>=2017.2 in c:\\users\\dldus\\anaconda3\\lib\\site-packages (from pandas) (2019.3)\n",
      "Requirement already satisfied: python-dateutil>=2.6.1 in c:\\users\\dldus\\anaconda3\\lib\\site-packages (from pandas) (2.8.1)\n",
      "Requirement already satisfied: six>=1.5 in c:\\users\\dldus\\anaconda3\\lib\\site-packages (from python-dateutil>=2.6.1->pandas) (1.14.0)\n",
      "Note: you may need to restart the kernel to use updated packages.\n"
     ]
    }
   ],
   "source": [
    "pip install pandas"
   ]
  },
  {
   "cell_type": "code",
   "execution_count": 1,
   "metadata": {},
   "outputs": [],
   "source": [
    "import pandas as pd"
   ]
  },
  {
   "cell_type": "code",
   "execution_count": 2,
   "metadata": {},
   "outputs": [
    {
     "data": {
      "text/html": [
       "<div>\n",
       "<style scoped>\n",
       "    .dataframe tbody tr th:only-of-type {\n",
       "        vertical-align: middle;\n",
       "    }\n",
       "\n",
       "    .dataframe tbody tr th {\n",
       "        vertical-align: top;\n",
       "    }\n",
       "\n",
       "    .dataframe thead th {\n",
       "        text-align: right;\n",
       "    }\n",
       "</style>\n",
       "<table border=\"1\" class=\"dataframe\">\n",
       "  <thead>\n",
       "    <tr style=\"text-align: right;\">\n",
       "      <th></th>\n",
       "      <th>date</th>\n",
       "      <th>confirmed</th>\n",
       "      <th>death</th>\n",
       "      <th>released</th>\n",
       "      <th>weather_temp</th>\n",
       "      <th>weather_rain</th>\n",
       "      <th>social_keyword_corona</th>\n",
       "      <th>social_keyword_disinfection</th>\n",
       "      <th>social_keyword_mask</th>\n",
       "      <th>social_keyword_infection</th>\n",
       "      <th>social_keyword_briefing</th>\n",
       "      <th>date_red</th>\n",
       "      <th>traffic_subway</th>\n",
       "      <th>confirmed_foreign</th>\n",
       "      <th>group_total</th>\n",
       "      <th>PM10</th>\n",
       "    </tr>\n",
       "  </thead>\n",
       "  <tbody>\n",
       "    <tr>\n",
       "      <th>0</th>\n",
       "      <td>20200301</td>\n",
       "      <td>10</td>\n",
       "      <td>0</td>\n",
       "      <td>2</td>\n",
       "      <td>5.8</td>\n",
       "      <td>0.2</td>\n",
       "      <td>288841</td>\n",
       "      <td>19264</td>\n",
       "      <td>105352</td>\n",
       "      <td>17744</td>\n",
       "      <td>3281</td>\n",
       "      <td>1</td>\n",
       "      <td>1469158</td>\n",
       "      <td>0</td>\n",
       "      <td>0</td>\n",
       "      <td>45</td>\n",
       "    </tr>\n",
       "    <tr>\n",
       "      <th>1</th>\n",
       "      <td>20200302</td>\n",
       "      <td>4</td>\n",
       "      <td>0</td>\n",
       "      <td>0</td>\n",
       "      <td>3.4</td>\n",
       "      <td>0.0</td>\n",
       "      <td>341923</td>\n",
       "      <td>32023</td>\n",
       "      <td>202509</td>\n",
       "      <td>17089</td>\n",
       "      <td>3581</td>\n",
       "      <td>0</td>\n",
       "      <td>4162674</td>\n",
       "      <td>0</td>\n",
       "      <td>0</td>\n",
       "      <td>38</td>\n",
       "    </tr>\n",
       "    <tr>\n",
       "      <th>2</th>\n",
       "      <td>20200303</td>\n",
       "      <td>7</td>\n",
       "      <td>0</td>\n",
       "      <td>0</td>\n",
       "      <td>4.8</td>\n",
       "      <td>0.0</td>\n",
       "      <td>315235</td>\n",
       "      <td>30640</td>\n",
       "      <td>203550</td>\n",
       "      <td>19368</td>\n",
       "      <td>3270</td>\n",
       "      <td>0</td>\n",
       "      <td>4168576</td>\n",
       "      <td>0</td>\n",
       "      <td>0</td>\n",
       "      <td>45</td>\n",
       "    </tr>\n",
       "    <tr>\n",
       "      <th>3</th>\n",
       "      <td>20200304</td>\n",
       "      <td>1</td>\n",
       "      <td>0</td>\n",
       "      <td>0</td>\n",
       "      <td>2.2</td>\n",
       "      <td>0.0</td>\n",
       "      <td>300534</td>\n",
       "      <td>32469</td>\n",
       "      <td>174302</td>\n",
       "      <td>28207</td>\n",
       "      <td>4067</td>\n",
       "      <td>0</td>\n",
       "      <td>4163524</td>\n",
       "      <td>1</td>\n",
       "      <td>1</td>\n",
       "      <td>46</td>\n",
       "    </tr>\n",
       "    <tr>\n",
       "      <th>4</th>\n",
       "      <td>20200305</td>\n",
       "      <td>4</td>\n",
       "      <td>0</td>\n",
       "      <td>12</td>\n",
       "      <td>1.4</td>\n",
       "      <td>0.0</td>\n",
       "      <td>278765</td>\n",
       "      <td>26606</td>\n",
       "      <td>161861</td>\n",
       "      <td>26839</td>\n",
       "      <td>3288</td>\n",
       "      <td>0</td>\n",
       "      <td>4185111</td>\n",
       "      <td>0</td>\n",
       "      <td>0</td>\n",
       "      <td>36</td>\n",
       "    </tr>\n",
       "  </tbody>\n",
       "</table>\n",
       "</div>"
      ],
      "text/plain": [
       "       date  confirmed  death  released  weather_temp  weather_rain  \\\n",
       "0  20200301         10      0         2           5.8           0.2   \n",
       "1  20200302          4      0         0           3.4           0.0   \n",
       "2  20200303          7      0         0           4.8           0.0   \n",
       "3  20200304          1      0         0           2.2           0.0   \n",
       "4  20200305          4      0        12           1.4           0.0   \n",
       "\n",
       "   social_keyword_corona  social_keyword_disinfection  social_keyword_mask  \\\n",
       "0                 288841                        19264               105352   \n",
       "1                 341923                        32023               202509   \n",
       "2                 315235                        30640               203550   \n",
       "3                 300534                        32469               174302   \n",
       "4                 278765                        26606               161861   \n",
       "\n",
       "   social_keyword_infection  social_keyword_briefing  date_red  \\\n",
       "0                     17744                     3281         1   \n",
       "1                     17089                     3581         0   \n",
       "2                     19368                     3270         0   \n",
       "3                     28207                     4067         0   \n",
       "4                     26839                     3288         0   \n",
       "\n",
       "   traffic_subway  confirmed_foreign  group_total  PM10  \n",
       "0         1469158                  0            0    45  \n",
       "1         4162674                  0            0    38  \n",
       "2         4168576                  0            0    45  \n",
       "3         4163524                  1            1    46  \n",
       "4         4185111                  0            0    36  "
      ]
     },
     "execution_count": 2,
     "metadata": {},
     "output_type": "execute_result"
    }
   ],
   "source": [
    "df = pd.read_csv(\"data_seoul.csv\")\n",
    "df.head()"
   ]
  },
  {
   "cell_type": "code",
   "execution_count": 3,
   "metadata": {},
   "outputs": [],
   "source": [
    "from sklearn.model_selection import train_test_split"
   ]
  },
  {
   "cell_type": "code",
   "execution_count": 4,
   "metadata": {},
   "outputs": [],
   "source": [
    "x = df[['death', 'released', 'weather_temp', 'weather_rain', 'social_keyword_corona', 'social_keyword_disinfection', 'social_keyword_mask', 'social_keyword_infection', 'social_keyword_briefing', 'date_red', 'traffic_subway', 'confirmed_foreign', 'group_total', 'PM10']]\n",
    "y = df[['confirmed']]\n",
    "\n",
    "x_train, x_test, y_train, y_test = train_test_split(x,y,train_size=0.9, test_size=0.1)"
   ]
  },
  {
   "cell_type": "code",
   "execution_count": 5,
   "metadata": {
    "scrolled": true
   },
   "outputs": [
    {
     "data": {
      "text/plain": [
       "LinearRegression(copy_X=True, fit_intercept=True, n_jobs=None, normalize=False)"
      ]
     },
     "execution_count": 5,
     "metadata": {},
     "output_type": "execute_result"
    }
   ],
   "source": [
    "from sklearn.linear_model import LinearRegression\n",
    "\n",
    "mlr = LinearRegression()\n",
    "mlr.fit(x_train, y_train)"
   ]
  },
  {
   "cell_type": "code",
   "execution_count": null,
   "metadata": {},
   "outputs": [],
   "source": [
    "y_predicted = mlr.predict(x_test)"
   ]
  },
  {
   "cell_type": "code",
   "execution_count": 7,
   "metadata": {},
   "outputs": [
    {
     "data": {
      "image/png": "[encoded data removed]",
      "text/plain": [
       "<Figure size 432x288 with 1 Axes>"
      ]
     },
     "metadata": {
      "needs_background": "light"
     },
     "output_type": "display_data"
    }
   ],
   "source": [
    "import matplotlib.pyplot as plt\n",
    "plt.scatter(y_test, y_predicted, alpha=0.4)\n",
    "plt.xlabel(\"Actual\")\n",
    "plt.ylabel(\"Predicted\")\n",
    "plt.title(\"MULTIPLE LINEAR REGRESSION\")\n",
    "plt.show()"
   ]
  },
  {
   "cell_type": "code",
   "execution_count": 8,
   "metadata": {},
   "outputs": [
    {
     "name": "stdout",
     "output_type": "stream",
     "text": [
      "[[-2.54520028e+00 -2.13019042e-01 -4.10450791e-01 -2.39705393e-01\n",
      "  -3.41795457e-05 -1.06743613e-04  1.00588342e-05  2.87011589e-04\n",
      "  -6.44920080e-05  1.48324218e+00  7.51046198e-07  1.04216655e+00\n",
      "   4.50796783e-01  1.18306651e-02]]\n"
     ]
    }
   ],
   "source": [
    "print(mlr.coef_)"
   ]
  },
  {
   "cell_type": "code",
   "execution_count": 11,
   "metadata": {},
   "outputs": [
    {
     "name": "stdout",
     "output_type": "stream",
     "text": [
      "0.417266077499764\n",
      "0.4945773218850152\n",
      "0.43355547886432527\n"
     ]
    }
   ],
   "source": [
    "print(mlr.score(x_test, y_test))"
   ]
  },
  {
   "cell_type": "code",
   "execution_count": null,
   "metadata": {},
   "outputs": [],
   "source": []
  },
  {
   "cell_type": "code",
   "execution_count": null,
   "metadata": {},
   "outputs": [],
   "source": []
  }
 ],
 "metadata": {
  "kernelspec": {
   "display_name": "Python 3",
   "language": "python",
   "name": "python3"
  },
  "language_info": {
   "codemirror_mode": {
    "name": "ipython",
    "version": 3
   },
   "file_extension": ".py",
   "mimetype": "text/x-python",
   "name": "python",
   "nbconvert_exporter": "python",
   "pygments_lexer": "ipython3",
   "version": "3.7.6"
  }
 },
 "nbformat": 4,
 "nbformat_minor": 2
}
