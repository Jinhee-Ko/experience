{
 "cells": [
  {
   "cell_type": "code",
   "execution_count": 1,
   "metadata": {},
   "outputs": [
    {
     "name": "stderr",
     "output_type": "stream",
     "text": [
      "C:\\Users\\dldus\\anaconda3\\lib\\site-packages\\tensorflow\\python\\framework\\dtypes.py:516: FutureWarning: Passing (type, 1) or '1type' as a synonym of type is deprecated; in a future version of numpy, it will be understood as (type, (1,)) / '(1,)type'.\n",
      "  _np_qint8 = np.dtype([(\"qint8\", np.int8, 1)])\n",
      "C:\\Users\\dldus\\anaconda3\\lib\\site-packages\\tensorflow\\python\\framework\\dtypes.py:517: FutureWarning: Passing (type, 1) or '1type' as a synonym of type is deprecated; in a future version of numpy, it will be understood as (type, (1,)) / '(1,)type'.\n",
      "  _np_quint8 = np.dtype([(\"quint8\", np.uint8, 1)])\n",
      "C:\\Users\\dldus\\anaconda3\\lib\\site-packages\\tensorflow\\python\\framework\\dtypes.py:518: FutureWarning: Passing (type, 1) or '1type' as a synonym of type is deprecated; in a future version of numpy, it will be understood as (type, (1,)) / '(1,)type'.\n",
      "  _np_qint16 = np.dtype([(\"qint16\", np.int16, 1)])\n",
      "C:\\Users\\dldus\\anaconda3\\lib\\site-packages\\tensorflow\\python\\framework\\dtypes.py:519: FutureWarning: Passing (type, 1) or '1type' as a synonym of type is deprecated; in a future version of numpy, it will be understood as (type, (1,)) / '(1,)type'.\n",
      "  _np_quint16 = np.dtype([(\"quint16\", np.uint16, 1)])\n",
      "C:\\Users\\dldus\\anaconda3\\lib\\site-packages\\tensorflow\\python\\framework\\dtypes.py:520: FutureWarning: Passing (type, 1) or '1type' as a synonym of type is deprecated; in a future version of numpy, it will be understood as (type, (1,)) / '(1,)type'.\n",
      "  _np_qint32 = np.dtype([(\"qint32\", np.int32, 1)])\n",
      "C:\\Users\\dldus\\anaconda3\\lib\\site-packages\\tensorflow\\python\\framework\\dtypes.py:525: FutureWarning: Passing (type, 1) or '1type' as a synonym of type is deprecated; in a future version of numpy, it will be understood as (type, (1,)) / '(1,)type'.\n",
      "  np_resource = np.dtype([(\"resource\", np.ubyte, 1)])\n",
      "C:\\Users\\dldus\\anaconda3\\lib\\site-packages\\tensorboard\\compat\\tensorflow_stub\\dtypes.py:541: FutureWarning: Passing (type, 1) or '1type' as a synonym of type is deprecated; in a future version of numpy, it will be understood as (type, (1,)) / '(1,)type'.\n",
      "  _np_qint8 = np.dtype([(\"qint8\", np.int8, 1)])\n",
      "C:\\Users\\dldus\\anaconda3\\lib\\site-packages\\tensorboard\\compat\\tensorflow_stub\\dtypes.py:542: FutureWarning: Passing (type, 1) or '1type' as a synonym of type is deprecated; in a future version of numpy, it will be understood as (type, (1,)) / '(1,)type'.\n",
      "  _np_quint8 = np.dtype([(\"quint8\", np.uint8, 1)])\n",
      "C:\\Users\\dldus\\anaconda3\\lib\\site-packages\\tensorboard\\compat\\tensorflow_stub\\dtypes.py:543: FutureWarning: Passing (type, 1) or '1type' as a synonym of type is deprecated; in a future version of numpy, it will be understood as (type, (1,)) / '(1,)type'.\n",
      "  _np_qint16 = np.dtype([(\"qint16\", np.int16, 1)])\n",
      "C:\\Users\\dldus\\anaconda3\\lib\\site-packages\\tensorboard\\compat\\tensorflow_stub\\dtypes.py:544: FutureWarning: Passing (type, 1) or '1type' as a synonym of type is deprecated; in a future version of numpy, it will be understood as (type, (1,)) / '(1,)type'.\n",
      "  _np_quint16 = np.dtype([(\"quint16\", np.uint16, 1)])\n",
      "C:\\Users\\dldus\\anaconda3\\lib\\site-packages\\tensorboard\\compat\\tensorflow_stub\\dtypes.py:545: FutureWarning: Passing (type, 1) or '1type' as a synonym of type is deprecated; in a future version of numpy, it will be understood as (type, (1,)) / '(1,)type'.\n",
      "  _np_qint32 = np.dtype([(\"qint32\", np.int32, 1)])\n",
      "C:\\Users\\dldus\\anaconda3\\lib\\site-packages\\tensorboard\\compat\\tensorflow_stub\\dtypes.py:550: FutureWarning: Passing (type, 1) or '1type' as a synonym of type is deprecated; in a future version of numpy, it will be understood as (type, (1,)) / '(1,)type'.\n",
      "  np_resource = np.dtype([(\"resource\", np.ubyte, 1)])\n"
     ]
    },
    {
     "name": "stdout",
     "output_type": "stream",
     "text": [
      "WARNING:tensorflow:From C:\\Users\\dldus\\anaconda3\\lib\\site-packages\\tensorflow\\python\\compat\\v2_compat.py:61: disable_resource_variables (from tensorflow.python.ops.variable_scope) is deprecated and will be removed in a future version.\n",
      "Instructions for updating:\n",
      "non-resource variables are not supported in the long term\n"
     ]
    }
   ],
   "source": [
    "import tensorflow.compat.v1 as tf\n",
    "tf.disable_v2_behavior()\n",
    "import numpy as np\n",
    "import pandas as pd\n",
    "import matplotlib.pyplot as plt"
   ]
  },
  {
   "cell_type": "code",
   "execution_count": 2,
   "metadata": {},
   "outputs": [
    {
     "data": {
      "text/html": [
       "<div>\n",
       "<style scoped>\n",
       "    .dataframe tbody tr th:only-of-type {\n",
       "        vertical-align: middle;\n",
       "    }\n",
       "\n",
       "    .dataframe tbody tr th {\n",
       "        vertical-align: top;\n",
       "    }\n",
       "\n",
       "    .dataframe thead th {\n",
       "        text-align: right;\n",
       "    }\n",
       "</style>\n",
       "<table border=\"1\" class=\"dataframe\">\n",
       "  <thead>\n",
       "    <tr style=\"text-align: right;\">\n",
       "      <th></th>\n",
       "      <th>date</th>\n",
       "      <th>confirmed</th>\n",
       "      <th>death</th>\n",
       "      <th>released</th>\n",
       "      <th>weather_temp</th>\n",
       "      <th>weather_rain</th>\n",
       "      <th>social_keyword_corona</th>\n",
       "      <th>social_keyword_disinfection</th>\n",
       "      <th>social_keyword_mask</th>\n",
       "      <th>social_keyword_infection</th>\n",
       "      <th>social_keyword_briefing</th>\n",
       "      <th>date_red</th>\n",
       "      <th>confirmed_foreign</th>\n",
       "      <th>PM10</th>\n",
       "    </tr>\n",
       "  </thead>\n",
       "  <tbody>\n",
       "    <tr>\n",
       "      <th>0</th>\n",
       "      <td>20200301</td>\n",
       "      <td>469</td>\n",
       "      <td>1</td>\n",
       "      <td>2</td>\n",
       "      <td>9.4</td>\n",
       "      <td>0.0</td>\n",
       "      <td>288841</td>\n",
       "      <td>19264</td>\n",
       "      <td>105352</td>\n",
       "      <td>17744</td>\n",
       "      <td>3281</td>\n",
       "      <td>1</td>\n",
       "      <td>0</td>\n",
       "      <td>33</td>\n",
       "    </tr>\n",
       "    <tr>\n",
       "      <th>1</th>\n",
       "      <td>20200302</td>\n",
       "      <td>376</td>\n",
       "      <td>4</td>\n",
       "      <td>0</td>\n",
       "      <td>7.1</td>\n",
       "      <td>0.0</td>\n",
       "      <td>341923</td>\n",
       "      <td>32023</td>\n",
       "      <td>202509</td>\n",
       "      <td>17089</td>\n",
       "      <td>3581</td>\n",
       "      <td>0</td>\n",
       "      <td>0</td>\n",
       "      <td>37</td>\n",
       "    </tr>\n",
       "    <tr>\n",
       "      <th>2</th>\n",
       "      <td>20200303</td>\n",
       "      <td>520</td>\n",
       "      <td>6</td>\n",
       "      <td>2</td>\n",
       "      <td>7.7</td>\n",
       "      <td>0.0</td>\n",
       "      <td>315235</td>\n",
       "      <td>30640</td>\n",
       "      <td>203550</td>\n",
       "      <td>19368</td>\n",
       "      <td>3270</td>\n",
       "      <td>0</td>\n",
       "      <td>0</td>\n",
       "      <td>23</td>\n",
       "    </tr>\n",
       "    <tr>\n",
       "      <th>3</th>\n",
       "      <td>20200304</td>\n",
       "      <td>405</td>\n",
       "      <td>4</td>\n",
       "      <td>0</td>\n",
       "      <td>5.9</td>\n",
       "      <td>0.0</td>\n",
       "      <td>300534</td>\n",
       "      <td>32469</td>\n",
       "      <td>174302</td>\n",
       "      <td>28207</td>\n",
       "      <td>4067</td>\n",
       "      <td>0</td>\n",
       "      <td>0</td>\n",
       "      <td>29</td>\n",
       "    </tr>\n",
       "    <tr>\n",
       "      <th>4</th>\n",
       "      <td>20200305</td>\n",
       "      <td>321</td>\n",
       "      <td>3</td>\n",
       "      <td>8</td>\n",
       "      <td>3.7</td>\n",
       "      <td>0.0</td>\n",
       "      <td>278765</td>\n",
       "      <td>26606</td>\n",
       "      <td>161861</td>\n",
       "      <td>26839</td>\n",
       "      <td>3288</td>\n",
       "      <td>0</td>\n",
       "      <td>0</td>\n",
       "      <td>37</td>\n",
       "    </tr>\n",
       "  </tbody>\n",
       "</table>\n",
       "</div>"
      ],
      "text/plain": [
       "       date  confirmed  death  released  weather_temp  weather_rain  \\\n",
       "0  20200301        469      1         2           9.4           0.0   \n",
       "1  20200302        376      4         0           7.1           0.0   \n",
       "2  20200303        520      6         2           7.7           0.0   \n",
       "3  20200304        405      4         0           5.9           0.0   \n",
       "4  20200305        321      3         8           3.7           0.0   \n",
       "\n",
       "   social_keyword_corona  social_keyword_disinfection  social_keyword_mask  \\\n",
       "0                 288841                        19264               105352   \n",
       "1                 341923                        32023               202509   \n",
       "2                 315235                        30640               203550   \n",
       "3                 300534                        32469               174302   \n",
       "4                 278765                        26606               161861   \n",
       "\n",
       "   social_keyword_infection  social_keyword_briefing  date_red  \\\n",
       "0                     17744                     3281         1   \n",
       "1                     17089                     3581         0   \n",
       "2                     19368                     3270         0   \n",
       "3                     28207                     4067         0   \n",
       "4                     26839                     3288         0   \n",
       "\n",
       "   confirmed_foreign  PM10  \n",
       "0                  0    33  \n",
       "1                  0    37  \n",
       "2                  0    23  \n",
       "3                  0    29  \n",
       "4                  0    37  "
      ]
     },
     "execution_count": 2,
     "metadata": {},
     "output_type": "execute_result"
    }
   ],
   "source": [
    "df = pd.read_csv(\"data_daegu.csv\")\n",
    "df.head()"
   ]
  },
  {
   "cell_type": "code",
   "execution_count": 3,
   "metadata": {},
   "outputs": [],
   "source": [
    "from sklearn.model_selection import train_test_split"
   ]
  },
  {
   "cell_type": "code",
   "execution_count": 85,
   "metadata": {},
   "outputs": [],
   "source": [
    "x = df[['death', 'released', 'weather_temp', 'weather_rain', 'social_keyword_corona', 'social_keyword_disinfection', 'social_keyword_mask', 'social_keyword_infection', 'social_keyword_briefing', 'date_red', 'confirmed_foreign', 'PM10' ]]\n",
    "y = df[['confirmed']]\n",
    "\n",
    "x_train, x_test, y_train, y_test = train_test_split(x,y, train_size=0.9, test_size=0.1)"
   ]
  },
  {
   "cell_type": "code",
   "execution_count": 86,
   "metadata": {},
   "outputs": [],
   "source": [
    "#### Normalize\n",
    "mean = x_train.mean(axis=0)\n",
    "std = x_train.std(axis=0)\n",
    "x_train = (x_train - mean)/std\n",
    "x_test = (x_test - mean)/std"
   ]
  },
  {
   "cell_type": "code",
   "execution_count": 107,
   "metadata": {},
   "outputs": [],
   "source": [
    "X = tf.placeholder(tf.float32, shape=[None, 12])\n",
    "Y = tf.placeholder(tf.float32, shape=[None, 1])\n",
    "\n",
    "W1 = tf.Variable(tf.random_normal(shape=[12, 16]))\n",
    "b1 = tf.Variable(tf.random_normal(shape=[16]))\n",
    "L1 = tf.nn.sigmoid(tf.add(tf.matmul(X, W1), b1))\n",
    "\n",
    "W2 = tf.Variable(tf.random_normal(shape=[16, 64]))\n",
    "b2 = tf.Variable(tf.random_normal(shape=[64]))\n",
    "L2 = tf.nn.tanh(tf.add(tf.matmul(L1, W2), b2))\n",
    " \n",
    "W3 = tf.Variable(tf.random_normal(shape=[64, 32]))\n",
    "b3 = tf.Variable(tf.random_normal(shape=[32]))\n",
    "L3 = tf.nn.tanh(tf.add(tf.matmul(L2, W3), b3))\n",
    "\n",
    "W4 = tf.Variable(tf.random_normal(shape=[32, 1]))\n",
    "b4 = tf.Variable(tf.random_normal(shape=[1]))\n",
    "\n",
    "model = tf.add(tf.matmul(L3, W4), b4)"
   ]
  },
  {
   "cell_type": "code",
   "execution_count": 108,
   "metadata": {},
   "outputs": [],
   "source": [
    "cost=tf.reduce_mean(tf.square(Y-model))\n",
    "optimizer = tf.train.AdamOptimizer(learning_rate=0.001)\n",
    "train_op = optimizer.minimize(cost)"
   ]
  },
  {
   "cell_type": "code",
   "execution_count": 109,
   "metadata": {
    "scrolled": true
   },
   "outputs": [],
   "source": [
    "init = tf.global_variables_initializer()\n",
    "sess = tf.Session()\n",
    "sess.run(init)\n",
    "loss_save = []\n",
    "\n",
    "epochs=150\n",
    "for step in range(epochs):\n",
    "    sess.run(train_op, feed_dict={X: x_train, Y: y_train})\n",
    "        \n",
    "    ###적절한 epoch를 선정하기 위해 각 epoch당 loss를 저장\n",
    "    #test데이터를 이용해 loss 도출\n",
    "    #loss_train=sess.run(cost, feed_dict={X: x_train, Y: y_train})\n",
    "    loss_test=sess.run(cost, feed_dict={X: x_test, Y: y_test})\n",
    "    #각 epoch당 loss값을 loss_save에 저장\n",
    "    loss_save.append(loss_test)"
   ]
  },
  {
   "cell_type": "code",
   "execution_count": 111,
   "metadata": {},
   "outputs": [
    {
     "data": {
      "image/png": "[encoded data removed]",
      "text/plain": [
       "<Figure size 432x288 with 1 Axes>"
      ]
     },
     "metadata": {
      "needs_background": "light"
     },
     "output_type": "display_data"
    }
   ],
   "source": [
    "#epoch당 loss 그래프\n",
    "epoch=np.linspace(1,150,150)\n",
    "fig = plt.figure()\n",
    "plt.plot(epoch,loss_save)\n",
    "plt.xlabel('epochs')\n",
    "plt.ylabel('loss')\n",
    "plt.title('Loss per epoch')\n",
    "plt.grid(linestyle='--', color='lavender')\n",
    "plt.show()"
   ]
  },
  {
   "cell_type": "code",
   "execution_count": 112,
   "metadata": {
    "scrolled": true
   },
   "outputs": [
    {
     "name": "stdout",
     "output_type": "stream",
     "text": [
      "epoch: 150/150, train loss: 11327.3369, test loss: 1859.8389\n",
      "Train Accuracy: 18.89435\n",
      "Test Accuracy: 23.105095\n"
     ]
    }
   ],
   "source": [
    "##########모델 검증\n",
    "\n",
    "#최종loss\n",
    "loss_value_train = sess.run(cost, feed_dict={X: x_train, Y: y_train})\n",
    "loss_value_test = sess.run(cost, feed_dict={X: x_test, Y: y_test})     \n",
    "print('epoch: {}/{}, train loss: {:.4f}, test loss: {:.4f}'.format(step+1, epochs, loss_value_train, loss_value_test))\n",
    "\n",
    "#최종accuracy\n",
    "accuracy = tf.reduce_mean(tf.cast(model, \"float\"))\n",
    "train_accuracy = accuracy.eval(session = sess, feed_dict={X: x_train, Y: y_train})\n",
    "test_accuracy = accuracy.eval(session = sess, feed_dict={X: x_test, Y: y_test})\n",
    "print(\"Train Accuracy:\", train_accuracy)\n",
    "print(\"Test Accuracy:\", test_accuracy)\n"
   ]
  },
  {
   "cell_type": "code",
   "execution_count": 113,
   "metadata": {
    "scrolled": true
   },
   "outputs": [],
   "source": [
    "####모델 예측\n",
    "y_predict = sess.run(model, feed_dict={X:x_test})"
   ]
  },
  {
   "cell_type": "code",
   "execution_count": 120,
   "metadata": {},
   "outputs": [
    {
     "data": {
      "text/plain": [
       "[<matplotlib.lines.Line2D at 0x1531ec63388>,\n",
       " <matplotlib.lines.Line2D at 0x1531ec63508>,\n",
       " <matplotlib.lines.Line2D at 0x1531ec636c8>]"
      ]
     },
     "execution_count": 120,
     "metadata": {},
     "output_type": "execute_result"
    },
    {
     "data": {
      "image/png": "[encoded data removed]",
      "text/plain": [
       "<Figure size 432x288 with 1 Axes>"
      ]
     },
     "metadata": {
      "needs_background": "light"
     },
     "output_type": "display_data"
    }
   ],
   "source": [
    "#예측된 값과 실제 값 비교 그래프\n",
    "t=[82,83,84,85,86,87,88,89,90,91]\n",
    "\n",
    "plt.title('COVID19 Daegu')\n",
    "plt.xlabel('time(day)')\n",
    "plt.ylabel('confirmed number')\n",
    "\n",
    "plt.text(10,150,'Real',color='gold')\n",
    "plt.text(78,80,'Predicted',color='red')\n",
    "\n",
    "y_predict_total = sess.run(model, feed_dict={X:x_train})\n",
    "plt.plot(y,'gold',y_predict_total,'b',t,y_predict,'r')"
   ]
  },
  {
   "cell_type": "code",
   "execution_count": null,
   "metadata": {},
   "outputs": [],
   "source": []
  },
  {
   "cell_type": "code",
   "execution_count": null,
   "metadata": {},
   "outputs": [],
   "source": []
  }
 ],
 "metadata": {
  "kernelspec": {
   "display_name": "Python 3",
   "language": "python",
   "name": "python3"
  },
  "language_info": {
   "codemirror_mode": {
    "name": "ipython",
    "version": 3
   },
   "file_extension": ".py",
   "mimetype": "text/x-python",
   "name": "python",
   "nbconvert_exporter": "python",
   "pygments_lexer": "ipython3",
   "version": "3.7.6"
  }
 },
 "nbformat": 4,
 "nbformat_minor": 4
}
