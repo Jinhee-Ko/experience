{
 "cells": [
  {
   "cell_type": "code",
   "execution_count": null,
   "metadata": {},
   "outputs": [],
   "source": [
    "from sklearn.ensemble import GradientBoostingClassifier\n",
    "from sklearn.model_selection import train_test_split\n",
    "import matplotlib.pyplot as plt\n",
    "import numpy as np\n",
    "import pandas as pd\n",
    "from sklearn.metrics import accuracy_score\n",
    "from sklearn.model_selection import GridSearchCV"
   ]
  },
  {
   "cell_type": "code",
   "execution_count": null,
   "metadata": {},
   "outputs": [],
   "source": [
    "df = pd.read_csv(\"data_gyeonggi.csv\")"
   ]
  },
  {
   "cell_type": "code",
   "execution_count": null,
   "metadata": {},
   "outputs": [],
   "source": [
    "x = df[['death', 'released', 'weather_temp', 'weather_rain', 'social_keyword_corona', 'social_keyword_disinfection', 'social_keyword_mask', 'social_keyword_infection', 'social_keyword_briefing', 'date_red', 'traffic_subway', 'confirmed_foreign', 'group_total', 'PM10']]\n",
    "y = df[['confirmed']]\n",
    "\n",
    "x_train, x_test, y_train, y_test = train_test_split(x,y, train_size=0.8, test_size=0.2, random_state=0)"
   ]
  },
  {
   "cell_type": "code",
   "execution_count": null,
   "metadata": {},
   "outputs": [],
   "source": [
    "gbrt = GradientBoostingClassifier(random_state=0)\n",
    "\n",
    "gbrt.fit(x_train,y_train.values.ravel())\n",
    "print(\"경기 train 정확도 : {:.3f}\".format(gbrt.score(x_train,y_train)))\n",
    "y_pred=gbrt.predict(x_test)\n",
    "print(\"경기 예측 정확도 : {:.3f}\".format(accuracy_score(y_test,y_pred)))\n",
    "print(\"경기 모델 정확도 : {:.3f}\".format(gbrt.score(x,y)))\n",
    "\n",
    "#train 정확도가 100%이므로 overfitting"
   ]
  },
  {
   "cell_type": "code",
   "execution_count": null,
   "metadata": {},
   "outputs": [],
   "source": [
    "import time\n",
    "\n",
    "# GBM 수행시간 측정을 위함. 시작시간 설정\n",
    "start_time = time.time()\n",
    "print('GBM 수행 시간: {:.1f}초'.format(time.time() - start_time))\n",
    "\n",
    "#GridSearchCV를 통한 하이퍼파라미터 튜닝\n",
    "\n",
    "\n",
    "param = {\n",
    "        'max_depth':[2,4,6],\n",
    "    'min_samples_split':[2,3],\n",
    "    'n_estimators' : [100,200,300,400,500],\n",
    "    'learning_rate' : [0.01,0.05,0.1]\n",
    "}\n",
    "gb_clf = GradientBoostingClassifier(random_state=0)\n",
    "grid_cv = GridSearchCV(gb_clf, param_grid=param, cv=2, verbose=1, n_jobs=-1)\n",
    "grid_cv.fit(x_train, y_train.values.ravel())\n",
    "print('최적 하이퍼 파라미터: \\n', grid_cv.best_params_)\n",
    "print('최고 예측 정확도: {0:.4f}'.format(grid_cv.best_score_))"
   ]
  },
  {
   "cell_type": "code",
   "execution_count": null,
   "metadata": {},
   "outputs": [],
   "source": [
    "#위의 결과로 나온 최적 파라미터로 다시 모델을 학습하여 테스트 세트 데이터에서 예측 성능을 측정\n",
    "#경기\n",
    "gbrt = GradientBoostingClassifier(n_estimators=100,random_state=0,learning_rate=0.05,min_samples_split=3,max_depth=2)\n",
    "\n",
    "gbrt= gbrt.fit(x_train,y_train.values.ravel())\n",
    "print(\"경기 train 정확도 : {:.3f}\".format(gbrt.score(x_train,y_train)))\n",
    "print(\"경기 test 정확도 : {:.3f}\".format(gbrt.score(x_test,y_test)))"
   ]
  }
 ],
 "metadata": {
  "kernelspec": {
   "display_name": "Python 3",
   "language": "python",
   "name": "python3"
  },
  "language_info": {
   "codemirror_mode": {
    "name": "ipython",
    "version": 3
   },
   "file_extension": ".py",
   "mimetype": "text/x-python",
   "name": "python",
   "nbconvert_exporter": "python",
   "pygments_lexer": "ipython3",
   "version": "3.7.6"
  }
 },
 "nbformat": 4,
 "nbformat_minor": 4
}
